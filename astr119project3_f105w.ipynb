{
 "cells": [
  {
   "cell_type": "markdown",
   "metadata": {},
   "source": [
    "# Astronomical Source Detection"
   ]
  },
  {
   "cell_type": "markdown",
   "metadata": {},
   "source": [
    "Import numpy and sep as usual."
   ]
  },
  {
   "cell_type": "code",
   "execution_count": null,
   "metadata": {},
   "outputs": [],
   "source": [
    "import numpy as np\n",
    "import sep"
   ]
  },
  {
   "cell_type": "markdown",
   "metadata": {},
   "source": [
    "Importing the additional setup for reading the test image and displaying plots."
   ]
  },
  {
   "cell_type": "code",
   "execution_count": null,
   "metadata": {},
   "outputs": [],
   "source": [
    "from astropy.io import fits\n",
    "import matplotlib.pyplot as plt\n",
    "from matplotlib import rcParams\n",
    "#Ellipse will be used later in the code for object detection\n",
    "from matplotlib.patches import Ellipse\n",
    "%matplotlib inline\n",
    "\n",
    "rcParams['figure.figsize'] = [10., 10.]"
   ]
  },
  {
   "cell_type": "markdown",
   "metadata": {},
   "source": [
    "Adding a color class to change font colors and styles."
   ]
  },
  {
   "cell_type": "code",
   "execution_count": null,
   "metadata": {},
   "outputs": [],
   "source": [
    "#use colors.subclass(or command; e.g bold).colorname to print\n",
    "#examples: print(colors.bold, colors.fg.blue, \"this will be bold and blue\")\n",
    "#everything after this will have that format until the following command\n",
    "#is given: print(colors.reset, \"now, this text will be normal\")\n",
    "\n",
    "class colors:\n",
    "    reset='\\033[0m'          #reset all colors with colors.reset\n",
    "    bold='\\033[01m'\n",
    "    underline='\\033[04m'\n",
    "    strikethrough='\\033[09m'\n",
    "    reverse='\\033[07m'\n",
    "    class fg:                #foreground subclass\n",
    "        black='\\033[30m'\n",
    "        red='\\033[31m'\n",
    "        green='\\033[32m'\n",
    "        orange='\\033[33m'\n",
    "        blue='\\033[34m'\n",
    "        purple='\\033[35m'\n",
    "        cyan='\\033[36m'\n",
    "        lightgrey='\\033[37m'\n",
    "        darkgrey='\\033[90m'\n",
    "        lightred='\\033[91m'\n",
    "        lightgreen='\\033[92m'\n",
    "        yellow='\\033[93m'\n",
    "        lightblue='\\033[94m'\n",
    "        pink='\\033[95m'\n",
    "        lightcyan='\\033[96m'\n",
    "    class bg:                #background subclass\n",
    "        black='\\033[40m'\n",
    "        red='\\033[41m'\n",
    "        green='\\033[42m'\n",
    "        orange='\\033[43m'\n",
    "        blue='\\033[44m'\n",
    "        purple='\\033[45m'\n",
    "        cyan='\\033[46m'\n",
    "        lightgrey='\\033[47m'"
   ]
  },
  {
   "cell_type": "markdown",
   "metadata": {},
   "source": [
    "Getting data from fits image."
   ]
  },
  {
   "cell_type": "code",
   "execution_count": null,
   "metadata": {},
   "outputs": [],
   "source": [
    "data = fits.getdata(\"hlsp_hudf12_hst_wfc3ir_udfmain_f105w_v1.0_drz.fits\")\n",
    "\n",
    "#keep in mind to replace the directory prior to running on personal terminal\n",
    "#(e.g: \"\"/Users/***/Desktop/image.fits\")\n",
    "\n",
    "#use the following if an error arises in this cell:\n",
    "\n",
    "data = data.byteswap(inplace=True).newbyteorder()"
   ]
  },
  {
   "cell_type": "markdown",
   "metadata": {},
   "source": [
    "Printing the image and saving as a .png"
   ]
  },
  {
   "cell_type": "code",
   "execution_count": null,
   "metadata": {},
   "outputs": [],
   "source": [
    "m, s = np.mean(data), np.std(data)\n",
    "plt.imshow(data, interpolation='nearest', cmap='gray', vmin=m-s, vmax=m+s, origin='lower')\n",
    "plt.colorbar()\n",
    "\n",
    "#save as .png\n",
    "plt.savefig(\"f105w.png\")"
   ]
  },
  {
   "cell_type": "markdown",
   "metadata": {},
   "source": [
    "Measuring a spatially varying background on the image"
   ]
  },
  {
   "cell_type": "code",
   "execution_count": null,
   "metadata": {},
   "outputs": [],
   "source": [
    "bkg = sep.Background(data)\n",
    "\n",
    "#You may also mask pixels with the following code:\n",
    "bkg = sep.Background(data, bw=64, bh=64, fw=3, fh=3)"
   ]
  },
  {
   "cell_type": "markdown",
   "metadata": {},
   "source": [
    "Printing the data type and shape."
   ]
  },
  {
   "cell_type": "code",
   "execution_count": null,
   "metadata": {},
   "outputs": [],
   "source": [
    "print(type(data))\n",
    "print(data.shape)"
   ]
  },
  {
   "cell_type": "markdown",
   "metadata": {},
   "source": [
    "Getting a \"global\" mean and noise of the image background."
   ]
  },
  {
   "cell_type": "code",
   "execution_count": null,
   "metadata": {},
   "outputs": [],
   "source": [
    "print(bkg.globalback)\n",
    "print(bkg.globalrms)"
   ]
  },
  {
   "cell_type": "markdown",
   "metadata": {},
   "source": [
    "Evaluating background as 2D array with same size as original image, showing it, and saving it as .png"
   ]
  },
  {
   "cell_type": "code",
   "execution_count": null,
   "metadata": {},
   "outputs": [],
   "source": [
    "bkg_image = bkg.back()\n",
    "\n",
    "#alternate way to get background evaluation:\n",
    "#bkg_image=np.array(bkg)\n",
    "\n",
    "plt.imshow(bkg_image, interpolation='nearest', cmap='gray', origin='lower')\n",
    "plt.colorbar()\n",
    "\n",
    "#saving as a .png\n",
    "plt.savefig(\"f105w_backgroundsubtraction1.png\")"
   ]
  },
  {
   "cell_type": "markdown",
   "metadata": {},
   "source": [
    "Now, doing the same as above, but with background noise."
   ]
  },
  {
   "cell_type": "code",
   "execution_count": null,
   "metadata": {},
   "outputs": [],
   "source": [
    "bkg_rms = bkg.rms()\n",
    "plt.imshow(bkg_rms, interpolation='nearest', cmap='gray', origin='lower')\n",
    "plt.colorbar()\n",
    "\n",
    "#saving as a .png\n",
    "plt.savefig(\"f105w_backgroundsubtraction_noise.png\")"
   ]
  },
  {
   "cell_type": "markdown",
   "metadata": {},
   "source": [
    "Now, we subtract the background"
   ]
  },
  {
   "cell_type": "code",
   "execution_count": null,
   "metadata": {},
   "outputs": [],
   "source": [
    "data_sub = data - bkg\n",
    "\n",
    "#It is also possible to subtract the background using:\n",
    "#data_sub = bkg.subfrom(data)"
   ]
  },
  {
   "cell_type": "markdown",
   "metadata": {},
   "source": [
    "## Object Detection"
   ]
  },
  {
   "cell_type": "markdown",
   "metadata": {},
   "source": [
    "Now that we have subtacted the background, we can begin object detection\n",
    "We're setting the threshold to be a constant of 15σ where σ=bkg.globalrms"
   ]
  },
  {
   "cell_type": "code",
   "execution_count": null,
   "metadata": {},
   "outputs": [],
   "source": [
    "objects = sep.extract(data_sub, 15, err=bkg.globalrms)\n",
    "\n",
    "#printing the number of detected objects\n",
    "print(\"Objects detected: %d\" % len(objects))"
   ]
  },
  {
   "cell_type": "markdown",
   "metadata": {},
   "source": [
    "Using objects['x'] and objects['y'], we can get the centroid coordinates of the objects. \n",
    "\n",
    "To do a visual check of where the objects are, we will over-plot the object coords with basic shape parameters.\n",
    "\n",
    "To do this we will used the imported Ellipse from matplotlib.patches, plot background subtracted images(comment 1), plot an ellipse for each object(comment 2), and saving image as a PNG(comment 3)."
   ]
  },
  {
   "cell_type": "code",
   "execution_count": null,
   "metadata": {},
   "outputs": [],
   "source": [
    "#1\n",
    "fig, ax = plt.subplots()\n",
    "m, s    = np.mean(data_sub), np.std(data_sub)\n",
    "im      = ax.imshow(data_sub, interpolation='nearest', cmap='gray', vmin=m-s, vmax=m+s, origin='lower')\n",
    "\n",
    "#2\n",
    "for i in range(len(objects)):\n",
    "    e = Ellipse(xy=(objects['x'][i], objects['y'][i]),\n",
    "                width  = 6*objects['a'][i],\n",
    "                height = 6*objects['b'][i],\n",
    "                angle  = objects['theta'][i] * 180. / np.pi)\n",
    "    e.set_facecolor('none')\n",
    "    e.set_edgecolor('red')\n",
    "    ax.add_artist(e)\n",
    "\n",
    "#3    \n",
    "plt.savefig(\"fl05w_objectdetection.png\")"
   ]
  },
  {
   "cell_type": "markdown",
   "metadata": {},
   "source": [
    "There are many fields for objects that give various information, below is an output of the available fields"
   ]
  },
  {
   "cell_type": "code",
   "execution_count": null,
   "metadata": {},
   "outputs": [],
   "source": [
    "objects.dtype.names"
   ]
  },
  {
   "cell_type": "markdown",
   "metadata": {},
   "source": [
    "## Aperture Photometry\n",
    "\n",
    "Performing a simple circular aperture photometry with a 3 pixel radius at the locations of the objects.\n",
    "\n",
    "flux, fluxerr, and flag are all 1D arrays with one entry per object; we will print the first 10 results as well."
   ]
  },
  {
   "cell_type": "code",
   "execution_count": null,
   "metadata": {},
   "outputs": [],
   "source": [
    "flux,fluxerr,flag = sep.sum_circle(data_sub,objects['x'],objects['y'],3.0,err=bkg.globalrms,gain=1.0)\n",
    "\n",
    "#printing the first ten results\n",
    "for i in range(10):\n",
    "    print(colors.bold,colors.fg.purple,\"object {:d}: flux = {:f} +/- {:f}\".format(i, flux[i], fluxerr[i]),colors.reset)"
   ]
  },
  {
   "cell_type": "markdown",
   "metadata": {},
   "source": [
    "Printing the flattened data's type."
   ]
  },
  {
   "cell_type": "code",
   "execution_count": null,
   "metadata": {},
   "outputs": [],
   "source": [
    "print(type(data.flatten()))\n",
    "print(type(data.flat))"
   ]
  },
  {
   "cell_type": "markdown",
   "metadata": {},
   "source": [
    "Showing the histogram of the data and saving."
   ]
  },
  {
   "cell_type": "code",
   "execution_count": null,
   "metadata": {},
   "outputs": [],
   "source": [
    "#fluxhist  = flux, fluxerr, flag\n",
    "#NBINS     = 1000\n",
    "    \n",
    "histogram = plt.hist(flux.flatten(),bins='auto',log=True,range=[-5.,100.])\n",
    "                     \n",
    "#saving as a .png\n",
    "plt.savefig(\"histogram_f105w.png\")"
   ]
  }
 ],
 "metadata": {
  "kernelspec": {
   "display_name": "Python 3",
   "language": "python",
   "name": "python3"
  },
  "language_info": {
   "codemirror_mode": {
    "name": "ipython",
    "version": 3
   },
   "file_extension": ".py",
   "mimetype": "text/x-python",
   "name": "python",
   "nbconvert_exporter": "python",
   "pygments_lexer": "ipython3",
   "version": "3.7.0"
  }
 },
 "nbformat": 4,
 "nbformat_minor": 2
}
