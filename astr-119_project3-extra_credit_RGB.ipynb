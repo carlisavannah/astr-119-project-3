{
 "cells": [
  {
   "cell_type": "markdown",
   "metadata": {},
   "source": [
    "# RGB colored Image\n",
    "\n",
    "Created via make_lupton_rbg"
   ]
  },
  {
   "cell_type": "code",
   "execution_count": null,
   "metadata": {},
   "outputs": [],
   "source": [
    "#importing necessary files\n",
    "import matplotlib.pyplot as plt\n",
    "from astropy.visualization import make_lupton_rgb\n",
    "from astropy.io import fits\n",
    "from astropy.utils.data import get_pkg_data_filename"
   ]
  },
  {
   "cell_type": "code",
   "execution_count": null,
   "metadata": {},
   "outputs": [],
   "source": [
    "\n",
    "# Read in the three images:\n",
    "#red image\n",
    "f160w = get_pkg_data_filename('hlsp_hudf12_hst_wfc3ir_udfmain_f160w_v1.0_drz.fits')\n",
    "#green image\n",
    "f125w = get_pkg_data_filename('hlsp_hudf12_hst_wfc3ir_udfmain_f125w_v1.0_drz.fits')\n",
    "#blue image\n",
    "f105w = get_pkg_data_filename('hlsp_hudf12_hst_wfc3ir_udfmain_f105w_v1.0_drz.fits')\n",
    "\n",
    "#defining each image color and pulling necessary data\n",
    "r = fits.open(f160w)[0].data  #red\n",
    "g = fits.open(f125w)[0].data  #green\n",
    "b = fits.open(f105w)[0].data  #blue\n",
    "\n",
    "#defining make_lupton_rgb\n",
    "rgb_default = make_lupton_rgb(r,g,b,Q=20,stretch=0.1,filename=\"final_colorized.jpeg\")\n",
    "\n",
    "#plotting rgb image\n",
    "plt.imshow(rgb_default, origin='lower')\n",
    "\n",
    "#saving image as .png\n",
    "plt.savefig(\"RGB_image.png\")"
   ]
  },
  {
   "cell_type": "markdown",
   "metadata": {},
   "source": [
    "Adapted from tutorial at: http://docs.astropy.org/en/older-docs-archive/v3.0.2/visualization/lupton_rgb.html"
   ]
  },
  {
   "cell_type": "code",
   "execution_count": null,
   "metadata": {},
   "outputs": [],
   "source": []
  }
 ],
 "metadata": {
  "kernelspec": {
   "display_name": "Python 3",
   "language": "python",
   "name": "python3"
  },
  "language_info": {
   "codemirror_mode": {
    "name": "ipython",
    "version": 3
   },
   "file_extension": ".py",
   "mimetype": "text/x-python",
   "name": "python",
   "nbconvert_exporter": "python",
   "pygments_lexer": "ipython3",
   "version": "3.7.0"
  }
 },
 "nbformat": 4,
 "nbformat_minor": 2
}
