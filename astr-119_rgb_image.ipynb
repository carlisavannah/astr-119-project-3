{
 "cells": [
  {
   "cell_type": "code",
   "execution_count": null,
   "metadata": {},
   "outputs": [],
   "source": [
    "%matplotlib inline\n",
    "from matplotlib import pyplot as plt\n",
    "import numpy as np\n",
    "from astropy.io import fits\n",
    "import matplotlib.colors as colors\n",
    "import sep\n",
    "from matplotlib import rcParams\n",
    "\n",
    "rcParams['figure.figsize'] = [11., 11.]"
   ]
  },
  {
   "cell_type": "code",
   "execution_count": null,
   "metadata": {
    "scrolled": true
   },
   "outputs": [],
   "source": [
    "f125w       = fits.getdata(\"hlsp_hudf12_hst_wfc3ir_udfmain_f125w_v1.0_drz.fits\")\n",
    "#/Users/***/Desktop/\n",
    "norm        = colors.LogNorm(vmin = f125w.min(), vmax = f125w.max())\n",
    "mask        = f125w <=0\n",
    "f125w[mask] = np.nan\n",
    "f125w       = np.log(f125w)\n",
    "plt.imshow(f125w)\n",
    "\n",
    "f160w       = fits.getdata(\"hlsp_hudf12_hst_wfc3ir_udfmain_f160w_v1.0_drz.fits\")\n",
    "#/Users/***/Desktop/\n",
    "norm        = colors.LogNorm(vmin = f160w.min(), vmax = f160w.max())\n",
    "mask        = f160w <=0\n",
    "f160w[mask] = np.nan\n",
    "f160w       = np.log(f160w)\n",
    "plt.imshow(f160w)\n",
    "\n",
    "f105w       = fits.getdata(\"hlsp_hudf12_hst_wfc3ir_udfmain_f105w_v1.0_drz.fits\")\n",
    "#/Users/***/Desktop/\n",
    "norm        = colors.LogNorm(vmin = f105w.min(), vmax = f105w.max())\n",
    "mask        = f105w <=0\n",
    "f105w[mask] = np.nan\n",
    "f105w       = np.log(f105w)\n",
    "plt.imshow(f105w)\n",
    "\n",
    "plt.colorbar()"
   ]
  },
  {
   "cell_type": "code",
   "execution_count": null,
   "metadata": {},
   "outputs": [],
   "source": [
    "plt.imshow((np.abs(np.stack([f125w,f160w,f105w]).transpose()))**(0.1),origin='lower', interpolation='nearest')\n",
    "#plt.show()\n",
    "plt.clf()\n",
    "\n",
    "data_RGB=np.zeros((f125w.shape[0],f160w.shape[1],3),dtype=float)\n",
    "\n",
    "data_RGB[:,:,0] = f125w\n",
    "data_RGB[:,:,1] = f160w\n",
    "data_RGB[:,:,2] = f105w\n",
    "\n",
    "\n",
    "plt.imshow(rgb_image)\n",
    "plt.savefig(\"rgb_image_ec.png\")"
   ]
  },
  {
   "cell_type": "code",
   "execution_count": null,
   "metadata": {},
   "outputs": [],
   "source": []
  }
 ],
 "metadata": {
  "kernelspec": {
   "display_name": "Python 3",
   "language": "python",
   "name": "python3"
  },
  "language_info": {
   "codemirror_mode": {
    "name": "ipython",
    "version": 3
   },
   "file_extension": ".py",
   "mimetype": "text/x-python",
   "name": "python",
   "nbconvert_exporter": "python",
   "pygments_lexer": "ipython3",
   "version": "3.7.0"
  }
 },
 "nbformat": 4,
 "nbformat_minor": 2
}
